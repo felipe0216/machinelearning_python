{
 "cells": [
  {
   "cell_type": "code",
   "execution_count": 1,
   "metadata": {},
   "outputs": [],
   "source": [
    "import numpy as np\n",
    "import matplotlib.pyplot as plt"
   ]
  },
  {
   "cell_type": "code",
   "execution_count": null,
   "metadata": {},
   "outputs": [],
   "source": [
    "class PolynomialRegression(Regression):\n",
    "    \"\"\"Performs a non-linear transformation of the data before fitting the model\n",
    "    and doing predictions which allows for doing non-linear regression.\n",
    "    Parameters:\n",
    "    -----------\n",
    "    degree: int\n",
    "        The degree of the polynomial that the independent variable X will be transformed to.\n",
    "    n_iterations: float\n",
    "        The number of training iterations the algorithm will tune the weights for.\n",
    "    learning_rate: float\n",
    "        The step length that will be used when updating the weights.\n",
    "    \"\"\"\n",
    "    def __init__(self, degree, n_iterations=3000, learning_rate=0.001):\n",
    "        self.degree = degree\n",
    "        # No regularization\n",
    "        self.regularization = lambda x: 0\n",
    "        self.regularization.grad = lambda x: 0\n",
    "        super(PolynomialRegression, self).__init__(n_iterations=n_iterations,\n",
    "                                                learning_rate=learning_rate)\n",
    "\n",
    "    def fit(self, X, y):\n",
    "        X = polynomial_features(X, degree=self.degree)\n",
    "        super(PolynomialRegression, self).fit(X, y)\n",
    "\n",
    "    def predict(self, X):\n",
    "        X = polynomial_features(X, degree=self.degree)\n",
    "        return super(PolynomialRegression, self).predict(X)"
   ]
  }
 ],
 "metadata": {
  "kernelspec": {
   "display_name": "Python 3",
   "language": "python",
   "name": "python3"
  },
  "language_info": {
   "codemirror_mode": {
    "name": "ipython",
    "version": 3
   },
   "file_extension": ".py",
   "mimetype": "text/x-python",
   "name": "python",
   "nbconvert_exporter": "python",
   "pygments_lexer": "ipython3",
   "version": "3.6.5"
  }
 },
 "nbformat": 4,
 "nbformat_minor": 2
}
