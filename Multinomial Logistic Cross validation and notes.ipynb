{
 "cells": [
  {
   "cell_type": "code",
   "execution_count": 6,
   "metadata": {},
   "outputs": [],
   "source": [
    "import numpy as np\n",
    "import pandas as pd\n",
    "import matplotlib.pyplot as plt\n",
    "%matplotlib inline"
   ]
  },
  {
   "cell_type": "code",
   "execution_count": 2,
   "metadata": {},
   "outputs": [],
   "source": [
    "df = pd.read_csv(\"ecommerce_data.csv\")"
   ]
  },
  {
   "cell_type": "code",
   "execution_count": 3,
   "metadata": {},
   "outputs": [
    {
     "data": {
      "text/html": [
       "<div>\n",
       "<style scoped>\n",
       "    .dataframe tbody tr th:only-of-type {\n",
       "        vertical-align: middle;\n",
       "    }\n",
       "\n",
       "    .dataframe tbody tr th {\n",
       "        vertical-align: top;\n",
       "    }\n",
       "\n",
       "    .dataframe thead th {\n",
       "        text-align: right;\n",
       "    }\n",
       "</style>\n",
       "<table border=\"1\" class=\"dataframe\">\n",
       "  <thead>\n",
       "    <tr style=\"text-align: right;\">\n",
       "      <th></th>\n",
       "      <th>is_mobile</th>\n",
       "      <th>n_products_viewed</th>\n",
       "      <th>visit_duration</th>\n",
       "      <th>is_returning_visitor</th>\n",
       "      <th>time_of_day</th>\n",
       "      <th>user_action</th>\n",
       "    </tr>\n",
       "  </thead>\n",
       "  <tbody>\n",
       "    <tr>\n",
       "      <th>0</th>\n",
       "      <td>1</td>\n",
       "      <td>0</td>\n",
       "      <td>0.657510</td>\n",
       "      <td>0</td>\n",
       "      <td>3</td>\n",
       "      <td>0</td>\n",
       "    </tr>\n",
       "    <tr>\n",
       "      <th>1</th>\n",
       "      <td>1</td>\n",
       "      <td>1</td>\n",
       "      <td>0.568571</td>\n",
       "      <td>0</td>\n",
       "      <td>2</td>\n",
       "      <td>1</td>\n",
       "    </tr>\n",
       "    <tr>\n",
       "      <th>2</th>\n",
       "      <td>1</td>\n",
       "      <td>0</td>\n",
       "      <td>0.042246</td>\n",
       "      <td>1</td>\n",
       "      <td>1</td>\n",
       "      <td>0</td>\n",
       "    </tr>\n",
       "    <tr>\n",
       "      <th>3</th>\n",
       "      <td>1</td>\n",
       "      <td>1</td>\n",
       "      <td>1.659793</td>\n",
       "      <td>1</td>\n",
       "      <td>1</td>\n",
       "      <td>2</td>\n",
       "    </tr>\n",
       "    <tr>\n",
       "      <th>4</th>\n",
       "      <td>0</td>\n",
       "      <td>1</td>\n",
       "      <td>2.014745</td>\n",
       "      <td>1</td>\n",
       "      <td>1</td>\n",
       "      <td>2</td>\n",
       "    </tr>\n",
       "  </tbody>\n",
       "</table>\n",
       "</div>"
      ],
      "text/plain": [
       "   is_mobile  n_products_viewed  visit_duration  is_returning_visitor  \\\n",
       "0          1                  0        0.657510                     0   \n",
       "1          1                  1        0.568571                     0   \n",
       "2          1                  0        0.042246                     1   \n",
       "3          1                  1        1.659793                     1   \n",
       "4          0                  1        2.014745                     1   \n",
       "\n",
       "   time_of_day  user_action  \n",
       "0            3            0  \n",
       "1            2            1  \n",
       "2            1            0  \n",
       "3            1            2  \n",
       "4            1            2  "
      ]
     },
     "execution_count": 3,
     "metadata": {},
     "output_type": "execute_result"
    }
   ],
   "source": [
    "df.head(5)"
   ]
  },
  {
   "cell_type": "code",
   "execution_count": 3,
   "metadata": {},
   "outputs": [],
   "source": [
    "N = len(df)\n",
    "\n",
    "time_of_day = np.array(df['time_of_day'])\n",
    "\n",
    "time_day = np.zeros((N,df['time_of_day'].nunique()))\n",
    "for i in range(N):\n",
    "    time_day[i, time_of_day[i]] = 1\n",
    "    \n",
    "\n",
    "df = np.column_stack((df,time_day))\n",
    "df = pd.DataFrame(df, columns=['mobile', 'products_viewed', 'visit_duration', 'returning','time_of_day','user_action','morning','noon','afternoon','evening'])\n",
    "df = df.drop(['time_of_day'], axis=1)\n"
   ]
  },
  {
   "cell_type": "code",
   "execution_count": 5,
   "metadata": {},
   "outputs": [
    {
     "data": {
      "text/html": [
       "<div>\n",
       "<style scoped>\n",
       "    .dataframe tbody tr th:only-of-type {\n",
       "        vertical-align: middle;\n",
       "    }\n",
       "\n",
       "    .dataframe tbody tr th {\n",
       "        vertical-align: top;\n",
       "    }\n",
       "\n",
       "    .dataframe thead th {\n",
       "        text-align: right;\n",
       "    }\n",
       "</style>\n",
       "<table border=\"1\" class=\"dataframe\">\n",
       "  <thead>\n",
       "    <tr style=\"text-align: right;\">\n",
       "      <th></th>\n",
       "      <th>mobile</th>\n",
       "      <th>products_viewed</th>\n",
       "      <th>visit_duration</th>\n",
       "      <th>returning</th>\n",
       "      <th>user_action</th>\n",
       "      <th>morning</th>\n",
       "      <th>noon</th>\n",
       "      <th>afternoon</th>\n",
       "      <th>evening</th>\n",
       "    </tr>\n",
       "  </thead>\n",
       "  <tbody>\n",
       "    <tr>\n",
       "      <th>0</th>\n",
       "      <td>1.0</td>\n",
       "      <td>0.0</td>\n",
       "      <td>0.657510</td>\n",
       "      <td>0.0</td>\n",
       "      <td>0.0</td>\n",
       "      <td>0.0</td>\n",
       "      <td>0.0</td>\n",
       "      <td>0.0</td>\n",
       "      <td>1.0</td>\n",
       "    </tr>\n",
       "    <tr>\n",
       "      <th>1</th>\n",
       "      <td>1.0</td>\n",
       "      <td>1.0</td>\n",
       "      <td>0.568571</td>\n",
       "      <td>0.0</td>\n",
       "      <td>1.0</td>\n",
       "      <td>0.0</td>\n",
       "      <td>0.0</td>\n",
       "      <td>1.0</td>\n",
       "      <td>0.0</td>\n",
       "    </tr>\n",
       "    <tr>\n",
       "      <th>2</th>\n",
       "      <td>1.0</td>\n",
       "      <td>0.0</td>\n",
       "      <td>0.042246</td>\n",
       "      <td>1.0</td>\n",
       "      <td>0.0</td>\n",
       "      <td>0.0</td>\n",
       "      <td>1.0</td>\n",
       "      <td>0.0</td>\n",
       "      <td>0.0</td>\n",
       "    </tr>\n",
       "    <tr>\n",
       "      <th>3</th>\n",
       "      <td>1.0</td>\n",
       "      <td>1.0</td>\n",
       "      <td>1.659793</td>\n",
       "      <td>1.0</td>\n",
       "      <td>2.0</td>\n",
       "      <td>0.0</td>\n",
       "      <td>1.0</td>\n",
       "      <td>0.0</td>\n",
       "      <td>0.0</td>\n",
       "    </tr>\n",
       "    <tr>\n",
       "      <th>4</th>\n",
       "      <td>0.0</td>\n",
       "      <td>1.0</td>\n",
       "      <td>2.014745</td>\n",
       "      <td>1.0</td>\n",
       "      <td>2.0</td>\n",
       "      <td>0.0</td>\n",
       "      <td>1.0</td>\n",
       "      <td>0.0</td>\n",
       "      <td>0.0</td>\n",
       "    </tr>\n",
       "  </tbody>\n",
       "</table>\n",
       "</div>"
      ],
      "text/plain": [
       "   mobile  products_viewed  visit_duration  returning  user_action  morning  \\\n",
       "0     1.0              0.0        0.657510        0.0          0.0      0.0   \n",
       "1     1.0              1.0        0.568571        0.0          1.0      0.0   \n",
       "2     1.0              0.0        0.042246        1.0          0.0      0.0   \n",
       "3     1.0              1.0        1.659793        1.0          2.0      0.0   \n",
       "4     0.0              1.0        2.014745        1.0          2.0      0.0   \n",
       "\n",
       "   noon  afternoon  evening  \n",
       "0   0.0        0.0      1.0  \n",
       "1   0.0        1.0      0.0  \n",
       "2   1.0        0.0      0.0  \n",
       "3   1.0        0.0      0.0  \n",
       "4   1.0        0.0      0.0  "
      ]
     },
     "execution_count": 5,
     "metadata": {},
     "output_type": "execute_result"
    }
   ],
   "source": [
    "df.head()"
   ]
  },
  {
   "cell_type": "code",
   "execution_count": 4,
   "metadata": {},
   "outputs": [],
   "source": [
    "#Xtrain = np.array(df.drop(['user_action'], 1))\n",
    "targetraw = np.array(df['user_action'])\n",
    "target = np.zeros((N,df['user_action'].nunique()))\n",
    "for i in range(N):\n",
    "    target[i, int(targetraw[i])] = 1\n",
    "    \n"
   ]
  },
  {
   "cell_type": "code",
   "execution_count": 5,
   "metadata": {},
   "outputs": [],
   "source": [
    "df = np.column_stack((df,target))\n",
    "df = pd.DataFrame(df, columns=['mobile', 'products_viewed', 'visit_duration', 'returning','user_action','morning','noon','afternoon','evening','bounce','add_cart','checkout','buy'])\n",
    "df = df.drop(['user_action'], axis=1)"
   ]
  },
  {
   "cell_type": "code",
   "execution_count": 6,
   "metadata": {},
   "outputs": [
    {
     "name": "stdout",
     "output_type": "stream",
     "text": [
      "253 145 77 25\n"
     ]
    }
   ],
   "source": [
    "bounce = df.loc[df[\"bounce\"] ==1]\n",
    "addcart = df.loc[df[\"add_cart\"] ==1]\n",
    "checkout = df.loc[df[\"checkout\"] ==1]\n",
    "complete = df.loc[df[\"buy\"] ==1]\n",
    "\n",
    "print(len(bounce),len(addcart),len(checkout),len(complete))"
   ]
  },
  {
   "cell_type": "code",
   "execution_count": 7,
   "metadata": {},
   "outputs": [],
   "source": [
    "btrain = bounce[:int(len(bounce)*0.6)]\n",
    "addtrain = addcart[:int(len(addcart)*0.6)]\n",
    "checktrain = checkout[:int(len(checkout)*0.6)]\n",
    "buytrain = complete[:int(len(complete)*0.6)]\n",
    "\n",
    "bval = bounce[int(len(bounce)*0.6):int(len(bounce)*0.8)]\n",
    "addval = addcart[int(len(addcart)*0.6):int(len(addcart)*0.8)]\n",
    "checkval = checkout[int(len(checkout)*0.6):int(len(checkout)*0.8)]\n",
    "buyval = complete[int(len(complete)*0.6):int(len(complete)*0.8)]\n",
    "\n",
    "btest = bounce[int(len(bounce)*0.8):]\n",
    "addtest = addcart[int(len(addcart)*0.8):]\n",
    "checktest = checkout[int(len(checkout)*0.8):]\n",
    "buytest = complete[int(len(complete)*0.8):]"
   ]
  },
  {
   "cell_type": "code",
   "execution_count": 8,
   "metadata": {},
   "outputs": [],
   "source": [
    "frames = [btrain, addtrain, checktrain, buytrain]\n",
    "dftrain = pd.concat(frames, ignore_index=True)\n",
    "\n",
    "\n",
    "fval = [bval, addval, checkval, buyval]\n",
    "dfval = pd.concat(fval, ignore_index=True)\n",
    "\n",
    "ftest = [btest, addtest, checktest, buytest]\n",
    "dftest = pd.concat(ftest, ignore_index=True)"
   ]
  },
  {
   "cell_type": "code",
   "execution_count": 9,
   "metadata": {},
   "outputs": [],
   "source": [
    "X = np.array(dftrain.iloc[:,:8])\n",
    "PHI = np.column_stack((np.array([[1]*len(dftrain)]).T, X))\n",
    "y = np.array(dftrain.iloc[:,8:])\n",
    "\n",
    "Xval = np.array(dfval.iloc[:,:8])\n",
    "PHIval = np.column_stack((np.array([[1]*len(dfval)]).T, Xval))\n",
    "yval = np.array(dfval.iloc[:,8:])\n",
    "\n",
    "Xtest = np.array(dftest.iloc[:,:8])\n",
    "PHItest = np.column_stack((np.array([[1]*len(dftest)]).T, Xtest))\n",
    "ytest = np.array(dftest.iloc[:,8:])\n"
   ]
  },
  {
   "cell_type": "code",
   "execution_count": 4,
   "metadata": {},
   "outputs": [],
   "source": [
    "def softmax(H):\n",
    "    eH = np.exp(H)\n",
    "    return eH / eH.sum(axis=1, keepdims = True)\n",
    "\n",
    "def cross_entropy(Y, P):\n",
    "    return -(1/N)*np.sum(Y*np.log(P))\n",
    "\n",
    "def classification_rate(y, P):\n",
    "    return np.mean(y.argmax(axis=1) == P.argmax(axis = 1))\n",
    "\n",
    "def feed_forward(X, W1, b1, W2, b2):\n",
    "    Z1 = np.tanh(np.matmul(X, W1) + b1)\n",
    "    P = softmax(np.matmul(Z1, W2) + b2)\n",
    "    return Z1, P\n",
    "\n",
    "\n",
    "def feed_forward_sigmoid(X, W1, b1, W2, b2):\n",
    "    Z1 = 1 / (1 + np.exp(-((X.dot(W1))+b1)))\n",
    "    P = softmax(np.matmul(Z1, W2) + b2)\n",
    "    return Z1, P\n",
    "def sigmoid(h):\n",
    "    return \n",
    "\n",
    "def cross_entropy_l2(y, p, w, lmbda, N):\n",
    "    return cross_entropy(y, p) + (lmbda/(2*N))*np.sum(w**2) ##you have to use np.sum(w**2) instead of w.dot(w)\n",
    "\n",
    "def cross_entropy_l1(y, p, w, lmbda, N):\n",
    "    return cross_entropy(y, p) + (lmbda/N)*np.sum(np.abs(w)) ##We only use these formulas to train our model, \n",
    "\n",
    "#The formula I used for the cross_entropy function with L2 regularisation only works if w is a vector. This is why it's important to think about what everything is doing and not just plug and chug with the code.\n",
    "#Remember that you need to be using the Frobenius norm, instead of the L2 norm."
   ]
  },
  {
   "cell_type": "code",
   "execution_count": 56,
   "metadata": {},
   "outputs": [
    {
     "name": "stdout",
     "output_type": "stream",
     "text": [
      "[0.07965495824301155] [0.19080313450720568] [0.919732441471572] [0.91]\n"
     ]
    },
    {
     "data": {
      "image/png": "[encoded data removed]",
      "text/plain": [
       "<Figure size 432x288 with 1 Axes>"
      ]
     },
     "metadata": {},
     "output_type": "display_data"
    }
   ],
   "source": [
    "# Build the Model\n",
    "\n",
    "\n",
    "w = np.random.randn(9, 4)\n",
    "J = []\n",
    "eta = 5e-1\n",
    "epochs = int(5e3)\n",
    "Jtrain = []\n",
    "Jval = []\n",
    "CRtrain = []\n",
    "CRval = []\n",
    "\n",
    "for t in range(epochs):\n",
    "    p = softmax(PHI.dot(w))\n",
    "    J.append(cross_entropy(y, p))\n",
    "    w -= eta*(1/len(dftrain))*PHI.T.dot(p - y)\n",
    "pval = softmax(PHIval.dot(w))\n",
    "ptest = softmax(PHItest.dot(w))\n",
    "\n",
    "Jtrain.append(J[-1]) # I want to start the last value of my error function, because it is the slowest\n",
    "Jval.append(cross_entropy(yval,pval)) # Know that I have my model trained, so I want to see what my single value for Jval would be and I am going to put that in an array to letter add the other Js that I get testing different lambdas and those will be added to Jval but I will still have my first value with of Jval with the unregularised Jval to compare it with\n",
    "CRtrain.append(classification_rate(y, p)) \n",
    "CRval.append(classification_rate(yval, pval))\n",
    "\n",
    "#You don't need an array or Js everytime you just want the most important, the lowest\n",
    "\n",
    "#plt.figure(figsize=(12,9))\n",
    "plt.plot(J)\n",
    "print(Jval, Jtrain, CRtrain, CRval)"
   ]
  },
  {
   "cell_type": "code",
   "execution_count": 37,
   "metadata": {},
   "outputs": [
    {
     "name": "stdout",
     "output_type": "stream",
     "text": [
      "0.919732441471572 0.91 0.8712871287128713\n"
     ]
    }
   ],
   "source": [
    "#Unregularised weights\n",
    "print(classification_rate(y, p), classification_rate(yval, pval), classification_rate(ytest, ptest))"
   ]
  },
  {
   "cell_type": "code",
   "execution_count": 75,
   "metadata": {},
   "outputs": [],
   "source": [
    "## Regularisation will always increase your bias, lower you classification rate and increase your error. BUT this should only happen in your training data! in your validation these parameters should be better! that is the whole propose of cross validation. In this case it isn't the case, which means that regularisation is not the way to go"
   ]
  },
  {
   "cell_type": "code",
   "execution_count": 74,
   "metadata": {},
   "outputs": [
    {
     "data": {
      "text/plain": [
       "<matplotlib.legend.Legend at 0x252750afb38>"
      ]
     },
     "execution_count": 74,
     "metadata": {},
     "output_type": "execute_result"
    },
    {
     "data": {
      "image/png": "[encoded data removed]",
      "text/plain": [
       "<Figure size 432x288 with 1 Axes>"
      ]
     },
     "metadata": {},
     "output_type": "display_data"
    }
   ],
   "source": [
    "#L2 Regularization\n",
    "#np.random.seed(111)\n",
    "CRtrain = []\n",
    "CRval = []\n",
    "Jtrain = []\n",
    "Jval = []\n",
    "eta = 5e-1\n",
    "epochs = int(5e3)\n",
    "L2 = np.linspace(0,1000,101)\n",
    "for i in np.linspace(0,1000,101):\n",
    "    w = np.random.rand(9,4)\n",
    "    lmbda = i\n",
    "    for t in range(epochs):\n",
    "        p = softmax(PHI.dot(w))\n",
    "        w -= eta * (1/len(X)) * (PHI.T.dot(p-y) + lmbda*w) #This already contains L2 regularisation, we don't need to write the cross_entropy_l2/l1 function\n",
    "\n",
    "    pval = softmax(PHIval.dot(w)) \n",
    "    CRtrain.append(classification_rate(y, p)) \n",
    "    CRval.append(classification_rate(yval, pval))\n",
    "    Jtrain.append(cross_entropy(y, p)) #You don't want to use the cross_entropy_l2/l1 because you are already applying regularisation every time you run this code because the lambda in our for loop is going to be changing our weights every time, hence our p values and hence our J and Jval\n",
    "    Jval.append(cross_entropy(yval, pval)) #we will get very similar results if we use cross entropy l1/l2 function instead of normal cross entropy \n",
    "\n",
    "    \n",
    "plt.plot(CRtrain, label='Training')\n",
    "plt.plot(CRval, label='Validation')\n",
    "plt.title(\"Classification Rate vs Lambda L2 Regularization\")\n",
    "plt.xlabel(\"Value of Lambda\")\n",
    "plt.ylabel(\"Classification value\")\n",
    "plt.legend(loc='upper right')\n",
    "#plt.savefig(filename)"
   ]
  },
  {
   "cell_type": "code",
   "execution_count": 72,
   "metadata": {},
   "outputs": [],
   "source": [
    "#This graph is fine, doesn't matter how it look at long it coveys the point that you do worse with regularisation "
   ]
  },
  {
   "cell_type": "code",
   "execution_count": 71,
   "metadata": {},
   "outputs": [
    {
     "data": {
      "text/plain": [
       "Text(0.5,1,'Error vs Lambda L2 Regularization')"
      ]
     },
     "execution_count": 71,
     "metadata": {},
     "output_type": "execute_result"
    },
    {
     "data": {
      "image/png": "[encoded data removed]",
      "text/plain": [
       "<Figure size 432x288 with 1 Axes>"
      ]
     },
     "metadata": {},
     "output_type": "display_data"
    }
   ],
   "source": [
    "plt.plot(L2, Jtrain, label=\"Training\")\n",
    "plt.plot(L2, Jval, label=\"Validation\")\n",
    "plt.xlabel(\"Value of Lambda\")\n",
    "plt.ylabel(\"Error\")\n",
    "plt.legend(loc='lower right')\n",
    "plt.title(\"Error vs Lambda L2 Regularization\")\n",
    "#plt.savefig(filename)\n"
   ]
  },
  {
   "cell_type": "code",
   "execution_count": null,
   "metadata": {},
   "outputs": [],
   "source": [
    "##The line would only come from different angles and converge at some point if you benefit from regularising, in this case you clearly don't that is wht you don't see them converging. At this point none of the diagnostic worked so what you should do is to engineer polynomials or change to a more complex model"
   ]
  },
  {
   "cell_type": "code",
   "execution_count": 67,
   "metadata": {},
   "outputs": [
    {
     "name": "stderr",
     "output_type": "stream",
     "text": [
      "C:\\Users\\felip\\Anaconda3\\lib\\site-packages\\ipykernel_launcher.py:3: RuntimeWarning: invalid value encountered in true_divide\n",
      "  This is separate from the ipykernel package so we can avoid doing imports until\n",
      "C:\\Users\\felip\\Anaconda3\\lib\\site-packages\\ipykernel_launcher.py:17: RuntimeWarning: invalid value encountered in sign\n"
     ]
    },
    {
     "data": {
      "text/plain": [
       "<matplotlib.legend.Legend at 0x25273ed16a0>"
      ]
     },
     "execution_count": 67,
     "metadata": {},
     "output_type": "execute_result"
    },
    {
     "data": {
      "image/png": "[encoded data removed]",
      "text/plain": [
       "<Figure size 432x288 with 1 Axes>"
      ]
     },
     "metadata": {},
     "output_type": "display_data"
    }
   ],
   "source": [
    "#L1 Regularization\n",
    "#np.random.seed(111)\n",
    "CRtrain2 = []\n",
    "CRval2 = []\n",
    "Jtrain2 = []\n",
    "Jval2 = []\n",
    "for i in np.linspace(0,1000,101):\n",
    "    w = np.random.rand(9,4)\n",
    "    eta = 5e-1\n",
    "    epochs = int(5e3)\n",
    "    lmbda = i\n",
    "                                                                #J_l1 = []\n",
    "    \n",
    "    for t in range(epochs):\n",
    "        p = softmax(PHI.dot(w))\n",
    "                                                                #J_l1.append(cross_entropy_l1(y, p, w, lmbda, len(X)))\n",
    "        w -= eta * (1/len(X)) * PHI.T.dot(p-y)+lmbda*np.sign(w)\n",
    "    \n",
    "    pval = softmax(PHIval.dot(w))\n",
    "    CRtrain2.append(classification_rate(y, p))\n",
    "    CRval2.append(classification_rate(yval, pval))\n",
    "    Jtrain2.append(cross_entropy(y, p))\n",
    "    Jval2.append(cross_entropy(yval, pval))\n",
    "\n",
    "plt.plot(L2, CRtrain2, label='Training')\n",
    "plt.plot(L2, CRval2, label='Validation')\n",
    "plt.title(\"L1 Regularization\")\n",
    "plt.xlabel(\"Value of Lambda\")\n",
    "plt.ylabel(\"Classification value\")\n",
    "plt.legend(loc='upper right')\n",
    "#plt.savefig(filename)"
   ]
  },
  {
   "cell_type": "code",
   "execution_count": null,
   "metadata": {},
   "outputs": [],
   "source": [
    "##In this graph it converges but it does not make sense to do anything with it because clearly regularising makes your model worse the more you increase lambda"
   ]
  },
  {
   "cell_type": "code",
   "execution_count": 68,
   "metadata": {},
   "outputs": [
    {
     "data": {
      "text/plain": [
       "<matplotlib.legend.Legend at 0x25273f399b0>"
      ]
     },
     "execution_count": 68,
     "metadata": {},
     "output_type": "execute_result"
    },
    {
     "data": {
      "image/png": "[encoded data removed]",
      "text/plain": [
       "<Figure size 432x288 with 1 Axes>"
      ]
     },
     "metadata": {},
     "output_type": "display_data"
    }
   ],
   "source": [
    "plt.plot(L2, Jtrain2, label='Training')\n",
    "plt.plot(L2, Jval2, label='Validation')\n",
    "plt.title(\"L1 Regularization\")\n",
    "plt.xlabel(\"Value of Lambda\")\n",
    "plt.ylabel(\"Error Function\")\n",
    "plt.legend(loc='upper right')\n",
    "#plt.savefig(filename)"
   ]
  },
  {
   "cell_type": "code",
   "execution_count": 73,
   "metadata": {
    "collapsed": true
   },
   "outputs": [
    {
     "data": {
      "text/plain": [
       "[0.19082346405134779,\n",
       " 6.278521210967741,\n",
       " 8.487565294656827,\n",
       " 7.224129479616973,\n",
       " 10.380460277648904,\n",
       " 13.149061693226496,\n",
       " nan,\n",
       " nan,\n",
       " nan,\n",
       " nan,\n",
       " nan,\n",
       " nan,\n",
       " nan,\n",
       " nan,\n",
       " nan,\n",
       " nan,\n",
       " nan,\n",
       " nan,\n",
       " nan,\n",
       " nan,\n",
       " nan,\n",
       " nan,\n",
       " nan,\n",
       " nan,\n",
       " nan,\n",
       " nan,\n",
       " nan,\n",
       " nan,\n",
       " nan,\n",
       " nan,\n",
       " nan,\n",
       " nan,\n",
       " nan,\n",
       " nan,\n",
       " nan,\n",
       " nan,\n",
       " nan,\n",
       " nan,\n",
       " nan,\n",
       " nan,\n",
       " nan,\n",
       " nan,\n",
       " nan,\n",
       " nan,\n",
       " nan,\n",
       " nan,\n",
       " nan,\n",
       " nan,\n",
       " nan,\n",
       " nan,\n",
       " nan,\n",
       " nan,\n",
       " nan,\n",
       " nan,\n",
       " nan,\n",
       " nan,\n",
       " nan,\n",
       " nan,\n",
       " nan,\n",
       " nan,\n",
       " nan,\n",
       " nan,\n",
       " nan,\n",
       " nan,\n",
       " nan,\n",
       " nan,\n",
       " nan,\n",
       " nan,\n",
       " nan,\n",
       " nan,\n",
       " nan,\n",
       " nan,\n",
       " nan,\n",
       " nan,\n",
       " nan,\n",
       " nan,\n",
       " nan,\n",
       " nan,\n",
       " nan,\n",
       " nan,\n",
       " nan,\n",
       " nan,\n",
       " nan,\n",
       " nan,\n",
       " nan,\n",
       " nan,\n",
       " nan,\n",
       " nan,\n",
       " nan,\n",
       " nan,\n",
       " nan,\n",
       " nan,\n",
       " nan,\n",
       " nan,\n",
       " nan,\n",
       " nan,\n",
       " nan,\n",
       " nan,\n",
       " nan,\n",
       " nan,\n",
       " nan]"
      ]
     },
     "execution_count": 73,
     "metadata": {},
     "output_type": "execute_result"
    }
   ],
   "source": [
    "Jtrain2 #If it says nan it means that it is quickly diverging to infinity, that is why the value of lambda in the graph only goes up to 25, because after that you error start going toward infinity"
   ]
  },
  {
   "cell_type": "markdown",
   "metadata": {},
   "source": [
    "## Artificial Neural Network"
   ]
  },
  {
   "cell_type": "code",
   "execution_count": 24,
   "metadata": {},
   "outputs": [],
   "source": [
    "# Build the model\n",
    "\n",
    "Q = 9\n",
    "D = 8\n",
    "K = 4\n",
    "W1 = np.random.randn(D, Q)\n",
    "b1 = np.random.randn(Q)\n",
    "W2 = np.random.randn(Q, K)\n",
    "b2 = np.random.randn(K)"
   ]
  },
  {
   "cell_type": "code",
   "execution_count": 116,
   "metadata": {
    "scrolled": true
   },
   "outputs": [
    {
     "name": "stderr",
     "output_type": "stream",
     "text": [
      "C:\\Users\\felip\\Anaconda3\\lib\\site-packages\\ipykernel_launcher.py:6: RuntimeWarning: divide by zero encountered in log\n",
      "  \n",
      "C:\\Users\\felip\\Anaconda3\\lib\\site-packages\\ipykernel_launcher.py:6: RuntimeWarning: invalid value encountered in multiply\n",
      "  \n",
      "C:\\Users\\felip\\Anaconda3\\lib\\site-packages\\numpy\\core\\_methods.py:32: RuntimeWarning: overflow encountered in reduce\n",
      "  return umr_sum(a, axis, dtype, out, keepdims)\n",
      "C:\\Users\\felip\\Anaconda3\\lib\\site-packages\\ipykernel_launcher.py:3: RuntimeWarning: invalid value encountered in true_divide\n",
      "  This is separate from the ipykernel package so we can avoid doing imports until\n"
     ]
    },
    {
     "data": {
      "text/plain": [
       "'plt.figure(figsize = (12,9))\\nplt.plot(J)'"
      ]
     },
     "execution_count": 116,
     "metadata": {},
     "output_type": "execute_result"
    }
   ],
   "source": [
    "# Train the model\n",
    "N = len(X)\n",
    "J = []\n",
    "eta = 6e-1\n",
    "epochs = int(5e4)\n",
    "CRtrain = []\n",
    "CRval = []\n",
    "CRtest = []\n",
    "for i in range(15):\n",
    "    Q = int(i)\n",
    "    W1 = np.random.randn(D, Q)\n",
    "    b1 = np.random.randn(Q)\n",
    "    W2 = np.random.randn(Q, K)\n",
    "    b2 = np.random.randn(K)\n",
    "    for t in range(epochs):\n",
    "\n",
    "        Z1, p = feed_forward(X, W1, b1, W2, b2)\n",
    "        J.append(cross_entropy(y, p))\n",
    "        W2 -= eta * (1/N)*np.matmul(Z1.T, p-y)\n",
    "        b2 -= eta * ((1/N)*np.matmul(Z1.T, p-y)).sum(axis = 0)\n",
    "        W1 -= eta * (1/N)*np.matmul(X.T, np.matmul(p-y, W2.T)*(1 - Z1*Z1))\n",
    "        b1 -= eta * ((1/N)*np.matmul(X.T, np.matmul(p-y, W2.T)*(1 - Z1*Z1))).sum(axis = 0)\n",
    "\n",
    "\n",
    "    pval = feed_forward(Xval, W1, b1, W2, b2)[-1]\n",
    "    ptest = feed_forward(Xtest, W1, b1, W2, b2)[-1]\n",
    "    CRtrain.append(classification_rate(y, p)) \n",
    "    CRval.append(classification_rate(yval, pval))\n",
    "    CRtest.append(classification_rate(ytest,ptest))\n",
    "    \n",
    "'''plt.figure(figsize = (12,9))\n",
    "plt.plot(J)'''"
   ]
  },
  {
   "cell_type": "code",
   "execution_count": 117,
   "metadata": {},
   "outputs": [],
   "source": [
    "d = {'CRtrain': CRtrain, 'CRVal': CRval, 'CRtest': CRtest}\n",
    "df = pd.DataFrame(data=d)"
   ]
  },
  {
   "cell_type": "code",
   "execution_count": 118,
   "metadata": {},
   "outputs": [
    {
     "data": {
      "text/html": [
       "<div>\n",
       "<style scoped>\n",
       "    .dataframe tbody tr th:only-of-type {\n",
       "        vertical-align: middle;\n",
       "    }\n",
       "\n",
       "    .dataframe tbody tr th {\n",
       "        vertical-align: top;\n",
       "    }\n",
       "\n",
       "    .dataframe thead th {\n",
       "        text-align: right;\n",
       "    }\n",
       "</style>\n",
       "<table border=\"1\" class=\"dataframe\">\n",
       "  <thead>\n",
       "    <tr style=\"text-align: right;\">\n",
       "      <th></th>\n",
       "      <th>CRtrain</th>\n",
       "      <th>CRVal</th>\n",
       "      <th>CRtest</th>\n",
       "    </tr>\n",
       "  </thead>\n",
       "  <tbody>\n",
       "    <tr>\n",
       "      <th>0</th>\n",
       "      <td>0.290970</td>\n",
       "      <td>0.29</td>\n",
       "      <td>0.287129</td>\n",
       "    </tr>\n",
       "    <tr>\n",
       "      <th>1</th>\n",
       "      <td>0.505017</td>\n",
       "      <td>0.51</td>\n",
       "      <td>0.504950</td>\n",
       "    </tr>\n",
       "    <tr>\n",
       "      <th>2</th>\n",
       "      <td>0.505017</td>\n",
       "      <td>0.51</td>\n",
       "      <td>0.504950</td>\n",
       "    </tr>\n",
       "    <tr>\n",
       "      <th>3</th>\n",
       "      <td>0.906355</td>\n",
       "      <td>0.90</td>\n",
       "      <td>0.900990</td>\n",
       "    </tr>\n",
       "    <tr>\n",
       "      <th>4</th>\n",
       "      <td>0.946488</td>\n",
       "      <td>0.93</td>\n",
       "      <td>0.920792</td>\n",
       "    </tr>\n",
       "    <tr>\n",
       "      <th>5</th>\n",
       "      <td>0.859532</td>\n",
       "      <td>0.87</td>\n",
       "      <td>0.900990</td>\n",
       "    </tr>\n",
       "    <tr>\n",
       "      <th>6</th>\n",
       "      <td>0.996656</td>\n",
       "      <td>0.92</td>\n",
       "      <td>0.920792</td>\n",
       "    </tr>\n",
       "    <tr>\n",
       "      <th>7</th>\n",
       "      <td>1.000000</td>\n",
       "      <td>0.95</td>\n",
       "      <td>0.871287</td>\n",
       "    </tr>\n",
       "    <tr>\n",
       "      <th>8</th>\n",
       "      <td>0.996656</td>\n",
       "      <td>0.91</td>\n",
       "      <td>0.960396</td>\n",
       "    </tr>\n",
       "    <tr>\n",
       "      <th>9</th>\n",
       "      <td>1.000000</td>\n",
       "      <td>0.94</td>\n",
       "      <td>0.900990</td>\n",
       "    </tr>\n",
       "    <tr>\n",
       "      <th>10</th>\n",
       "      <td>1.000000</td>\n",
       "      <td>0.93</td>\n",
       "      <td>0.950495</td>\n",
       "    </tr>\n",
       "    <tr>\n",
       "      <th>11</th>\n",
       "      <td>1.000000</td>\n",
       "      <td>0.92</td>\n",
       "      <td>0.930693</td>\n",
       "    </tr>\n",
       "    <tr>\n",
       "      <th>12</th>\n",
       "      <td>1.000000</td>\n",
       "      <td>0.93</td>\n",
       "      <td>0.920792</td>\n",
       "    </tr>\n",
       "    <tr>\n",
       "      <th>13</th>\n",
       "      <td>1.000000</td>\n",
       "      <td>0.95</td>\n",
       "      <td>0.930693</td>\n",
       "    </tr>\n",
       "    <tr>\n",
       "      <th>14</th>\n",
       "      <td>1.000000</td>\n",
       "      <td>0.93</td>\n",
       "      <td>0.930693</td>\n",
       "    </tr>\n",
       "  </tbody>\n",
       "</table>\n",
       "</div>"
      ],
      "text/plain": [
       "     CRtrain  CRVal    CRtest\n",
       "0   0.290970   0.29  0.287129\n",
       "1   0.505017   0.51  0.504950\n",
       "2   0.505017   0.51  0.504950\n",
       "3   0.906355   0.90  0.900990\n",
       "4   0.946488   0.93  0.920792\n",
       "5   0.859532   0.87  0.900990\n",
       "6   0.996656   0.92  0.920792\n",
       "7   1.000000   0.95  0.871287\n",
       "8   0.996656   0.91  0.960396\n",
       "9   1.000000   0.94  0.900990\n",
       "10  1.000000   0.93  0.950495\n",
       "11  1.000000   0.92  0.930693\n",
       "12  1.000000   0.93  0.920792\n",
       "13  1.000000   0.95  0.930693\n",
       "14  1.000000   0.93  0.930693"
      ]
     },
     "execution_count": 118,
     "metadata": {},
     "output_type": "execute_result"
    }
   ],
   "source": [
    "df #I should have use the seed for the weights"
   ]
  },
  {
   "cell_type": "code",
   "execution_count": 80,
   "metadata": {},
   "outputs": [
    {
     "name": "stdout",
     "output_type": "stream",
     "text": [
      "[0.0008271809953542312] [0.12836140096477985]\n"
     ]
    }
   ],
   "source": [
    "Jtrain = [J[-1]] # Want to grab just the last value so when I ran my lambda I know that my first value of Jtrain is always my initial best unregularised error value, and lambda is supposed to start doing better than it from there\n",
    "Jval = [cross_entropy(yval,pval)]\n",
    "Jtrain_l2 = [J[-1]]\n",
    "Jval_l2 = [cross_entropy(yval,pval)]\n",
    "Jtrain_l1 = [J[-1]]\n",
    "Jval_l1 = [cross_entropy(yval,pval)]\n",
    "\n",
    "print(Jtrain,Jval)"
   ]
  },
  {
   "cell_type": "markdown",
   "metadata": {},
   "source": [
    "## Train using Sigmoid instead of Tan"
   ]
  },
  {
   "cell_type": "code",
   "execution_count": 74,
   "metadata": {},
   "outputs": [
    {
     "data": {
      "text/plain": [
       "[<matplotlib.lines.Line2D at 0x27f63b93400>]"
      ]
     },
     "execution_count": 74,
     "metadata": {},
     "output_type": "execute_result"
    },
    {
     "data": {
      "image/png": "[encoded data removed]",
      "text/plain": [
       "<Figure size 864x648 with 1 Axes>"
      ]
     },
     "metadata": {},
     "output_type": "display_data"
    }
   ],
   "source": [
    "# Train the model using sigmoid instead\n",
    "N = len(X)\n",
    "Jsigmoid = []\n",
    "eta = 6e-1\n",
    "epochs = int(5e4)\n",
    "CRtrainsigmoid = []\n",
    "CRvalsigmoid = []\n",
    "CRtestsigmoid = []\n",
    "for i in range(1):\n",
    "    W1sigmoid = np.random.randn(D, Q)\n",
    "    b1sigmoid = np.random.randn(Q)\n",
    "    W2sigmoid = np.random.randn(Q, K)\n",
    "    b2sigmoid = np.random.randn(K)\n",
    "    for t in range(epochs):\n",
    "\n",
    "        Z1sigmoid, psigmoid = feed_forward_sigmoid(X, W1sigmoid, b1sigmoid, W2sigmoid, b2sigmoid)\n",
    "        Jsigmoid.append(cross_entropy(y, psigmoid))\n",
    "        W2sigmoid -= eta * (1/N)*np.matmul(Z1sigmoid.T, psigmoid-y)\n",
    "        b2sigmoid -= eta * ((1/N)*np.matmul(Z1sigmoid.T, psigmoid-y)).sum(axis = 0)\n",
    "        W1sigmoid -= eta * (1/N)*np.matmul(X.T, np.matmul(psigmoid-y, W2sigmoid.T)*(Z1sigmoid * (1-Z1sigmoid))) #Test if (1-Matrix) assumes that 1 is identity matrix\n",
    "        b1sigmoid -= eta * ((1/N)*np.matmul(X.T, np.matmul(psigmoid-y, W2sigmoid.T)*(Z1sigmoid * (1-Z1sigmoid)))).sum(axis = 0)\n",
    "\n",
    "\n",
    "    pvalsigmoid = feed_forward_sigmoid(Xval, W1sigmoid, b1sigmoid, W2sigmoid, b2sigmoid)[-1]\n",
    "    ptestsigmoid = feed_forward_sigmoid(Xtest, W1sigmoid, b1sigmoid, W2sigmoid, b2sigmoid)[-1]\n",
    "    CRtrainsigmoid.append(classification_rate(y, psigmoid)) \n",
    "    CRvalsigmoid.append(classification_rate(yval, pvalsigmoid))\n",
    "    CRtestsigmoid.append(classification_rate(ytest,ptestsigmoid))\n",
    "    \n",
    "plt.figure(figsize = (12,9))\n",
    "plt.plot(Jsigmoid)"
   ]
  },
  {
   "cell_type": "code",
   "execution_count": 98,
   "metadata": {},
   "outputs": [
    {
     "name": "stdout",
     "output_type": "stream",
     "text": [
      "[1.0] [0.92] [0.9207920792079208]\n"
     ]
    }
   ],
   "source": [
    "print(CRtrainsigmoid, CRvalsigmoid, CRtestsigmoid)"
   ]
  },
  {
   "cell_type": "markdown",
   "metadata": {},
   "source": [
    "## L2 Regularization ANN"
   ]
  },
  {
   "cell_type": "code",
   "execution_count": 124,
   "metadata": {},
   "outputs": [
    {
     "name": "stderr",
     "output_type": "stream",
     "text": [
      "C:\\Users\\felip\\Anaconda3\\lib\\site-packages\\ipykernel_launcher.py:3: RuntimeWarning: invalid value encountered in true_divide\n",
      "  This is separate from the ipykernel package so we can avoid doing imports until\n"
     ]
    },
    {
     "data": {
      "text/plain": [
       "<matplotlib.legend.Legend at 0x27f663cdf28>"
      ]
     },
     "execution_count": 124,
     "metadata": {},
     "output_type": "execute_result"
    },
    {
     "data": {
      "image/png": "[encoded data removed]",
      "text/plain": [
       "<Figure size 432x288 with 1 Axes>"
      ]
     },
     "metadata": {},
     "output_type": "display_data"
    }
   ],
   "source": [
    "#L2 Regularization\n",
    "np.random.seed(111)\n",
    "CRtrain_l2 = []\n",
    "CRval_l2 = []\n",
    "CRtest_l2 = []\n",
    "Jtrain_l2 = []\n",
    "Jval_l2 = []\n",
    "eta = 6e-1\n",
    "epochs = int(5e4)\n",
    "W1_l2 = np.random.randn(D, Q)\n",
    "b1_l2 = np.random.randn(Q)\n",
    "W2_l2 = np.random.randn(Q, K)\n",
    "b2_l2 = np.random.randn(K)\n",
    "L2 = np.linspace(0,1000,51)\n",
    "for i in L2:\n",
    "    lmbda = i\n",
    "\n",
    "    for t in range(epochs):\n",
    "\n",
    "        Z1_l2, p_l2 = feed_forward(X, W1_l2, b1_l2, W2_l2, b2_l2)\n",
    "        W2_l2 -= eta * (1/N)*(np.matmul(Z1_l2.T, p_l2-y) + lmbda*W2_l2)\n",
    "        b2_l2 -= eta * ((1/N)*(np.matmul(Z1_l2.T, p_l2-y)+ lmbda*W2_l2)).sum(axis = 0) \n",
    "        W1_l2 -= eta * (1/N)*(np.matmul(X.T, np.matmul(p_l2-y, W2_l2.T)*(1 - Z1_l2*Z1_l2))+ lmbda*W1_l2)\n",
    "        b1_l2 -= eta * ((1/N)*(np.matmul(X.T, np.matmul(p_l2-y, W2_l2.T)*(1 - Z1_l2*Z1_l2))+ lmbda*W1_l2)).sum(axis = 0) \n",
    "\n",
    "        \n",
    "    pval_l2 = feed_forward(Xval, W1_l2, b1_l2, W2_l2, b2_l2)[-1]\n",
    "    ptest_l2 = feed_forward(Xtest, W1_l2, b1_l2, W2_l2, b2_l2)[-1]\n",
    "    CRtrain_l2.append(classification_rate(y, p_l2)) \n",
    "    CRval_l2.append(classification_rate(yval, pval_l2))\n",
    "    CRtest_l2.append(classification_rate(ytest,ptest_l2))\n",
    "    Jtrain_l2.append(cross_entropy(y, p_l2)) \n",
    "    Jval_l2.append(cross_entropy(yval, pval_l2))\n",
    "\n",
    "\n",
    "    \n",
    "plt.plot(CRtrain_l2, label='Training')\n",
    "plt.plot(CRval_l2, label='Validation')\n",
    "plt.title(\"L2 Regularization: Classification Rate vs Lambda \")\n",
    "plt.xlabel(\"Value of Lambda\")\n",
    "plt.ylabel(\"Classification value\")\n",
    "plt.legend(loc='upper right')\n",
    "#plt.savefig(filename)"
   ]
  },
  {
   "cell_type": "code",
   "execution_count": 97,
   "metadata": {
    "collapsed": true
   },
   "outputs": [
    {
     "name": "stdout",
     "output_type": "stream",
     "text": [
      "[1.0, 0.5050167224080268, 0.5050167224080268, 0.5050167224080268, 0.5050167224080268, 0.5050167224080268, 0.5050167224080268, 0.5050167224080268, 0.5050167224080268, 0.5050167224080268, 0.5050167224080268, 0.5050167224080268, 0.5050167224080268, 0.5050167224080268, 0.5050167224080268, 0.5050167224080268, 0.5050167224080268, 0.5050167224080268, 0.5050167224080268, 0.5050167224080268, 0.5050167224080268, 0.5050167224080268, 0.5050167224080268, 0.5050167224080268, 0.5050167224080268, 0.5050167224080268, 0.5050167224080268, 0.5050167224080268, 0.5050167224080268, 0.5050167224080268, 0.5050167224080268, 0.5050167224080268, 0.5050167224080268, 0.5050167224080268, 0.5050167224080268, 0.5050167224080268, 0.5050167224080268, 0.5050167224080268, 0.5050167224080268, 0.5050167224080268, 0.5050167224080268, 0.5050167224080268, 0.5050167224080268, 0.5050167224080268, 0.5050167224080268, 0.5050167224080268, 0.5050167224080268, 0.5050167224080268, 0.5050167224080268, 0.5050167224080268, 0.5050167224080268, 0.5050167224080268, 0.5050167224080268, 0.5050167224080268, 0.5050167224080268, 0.5050167224080268, 0.5050167224080268, 0.5050167224080268, 0.5050167224080268, 0.5050167224080268, 0.5050167224080268, 0.5050167224080268, 0.5050167224080268, 0.5050167224080268, 0.5050167224080268, 0.5050167224080268, 0.5050167224080268, 0.5050167224080268, 0.5050167224080268, 0.5050167224080268, 0.5050167224080268, 0.5050167224080268, 0.5050167224080268, 0.5050167224080268, 0.5050167224080268, 0.5050167224080268, 0.5050167224080268, 0.5050167224080268, 0.5050167224080268, 0.5050167224080268, 0.5050167224080268, 0.5050167224080268, 0.5050167224080268, 0.5050167224080268, 0.5050167224080268, 0.5050167224080268, 0.5050167224080268, 0.5050167224080268, 0.5050167224080268, 0.5050167224080268, 0.5050167224080268, 0.5050167224080268, 0.5050167224080268, 0.5050167224080268, 0.5050167224080268, 0.5050167224080268, 0.5050167224080268, 0.5050167224080268, 0.5050167224080268, 0.5050167224080268, 0.5050167224080268] [0.94, 0.51, 0.51, 0.51, 0.51, 0.51, 0.51, 0.51, 0.51, 0.51, 0.51, 0.51, 0.51, 0.51, 0.51, 0.51, 0.51, 0.51, 0.51, 0.51, 0.51, 0.51, 0.51, 0.51, 0.51, 0.51, 0.51, 0.51, 0.51, 0.51, 0.51, 0.51, 0.51, 0.51, 0.51, 0.51, 0.51, 0.51, 0.51, 0.51, 0.51, 0.51, 0.51, 0.51, 0.51, 0.51, 0.51, 0.51, 0.51, 0.51, 0.51, 0.51, 0.51, 0.51, 0.51, 0.51, 0.51, 0.51, 0.51, 0.51, 0.51, 0.51, 0.51, 0.51, 0.51, 0.51, 0.51, 0.51, 0.51, 0.51, 0.51, 0.51, 0.51, 0.51, 0.51, 0.51, 0.51, 0.51, 0.51, 0.51, 0.51, 0.51, 0.51, 0.51, 0.51, 0.51, 0.51, 0.51, 0.51, 0.51, 0.51, 0.51, 0.51, 0.51, 0.51, 0.51, 0.51, 0.51, 0.51, 0.51, 0.51] [0.9108910891089109, 0.504950495049505, 0.504950495049505, 0.504950495049505, 0.504950495049505, 0.504950495049505, 0.504950495049505, 0.504950495049505, 0.504950495049505, 0.504950495049505, 0.504950495049505, 0.504950495049505, 0.504950495049505, 0.504950495049505, 0.504950495049505, 0.504950495049505, 0.504950495049505, 0.504950495049505, 0.504950495049505, 0.504950495049505, 0.504950495049505, 0.504950495049505, 0.504950495049505, 0.504950495049505, 0.504950495049505, 0.504950495049505, 0.504950495049505, 0.504950495049505, 0.504950495049505, 0.504950495049505, 0.504950495049505, 0.504950495049505, 0.504950495049505, 0.504950495049505, 0.504950495049505, 0.504950495049505, 0.504950495049505, 0.504950495049505, 0.504950495049505, 0.504950495049505, 0.504950495049505, 0.504950495049505, 0.504950495049505, 0.504950495049505, 0.504950495049505, 0.504950495049505, 0.504950495049505, 0.504950495049505, 0.504950495049505, 0.504950495049505, 0.504950495049505, 0.504950495049505, 0.504950495049505, 0.504950495049505, 0.504950495049505, 0.504950495049505, 0.504950495049505, 0.504950495049505, 0.504950495049505, 0.504950495049505, 0.504950495049505, 0.504950495049505, 0.504950495049505, 0.504950495049505, 0.504950495049505, 0.504950495049505, 0.504950495049505, 0.504950495049505, 0.504950495049505, 0.504950495049505, 0.504950495049505, 0.504950495049505, 0.504950495049505, 0.504950495049505, 0.504950495049505, 0.504950495049505, 0.504950495049505, 0.504950495049505, 0.504950495049505, 0.504950495049505, 0.504950495049505, 0.504950495049505, 0.504950495049505, 0.504950495049505, 0.504950495049505, 0.504950495049505, 0.504950495049505, 0.504950495049505, 0.504950495049505, 0.504950495049505, 0.504950495049505, 0.504950495049505, 0.504950495049505, 0.504950495049505, 0.504950495049505, 0.504950495049505, 0.504950495049505, 0.504950495049505, 0.504950495049505, 0.504950495049505, 0.504950495049505]\n"
     ]
    }
   ],
   "source": [
    "print(CRtrain_l2, CRval_l2, CRtest_l2)"
   ]
  },
  {
   "cell_type": "code",
   "execution_count": 94,
   "metadata": {
    "scrolled": true
   },
   "outputs": [
    {
     "data": {
      "text/plain": [
       "Text(0.5,1,'L2 Regularization: J vs Lambda ')"
      ]
     },
     "execution_count": 94,
     "metadata": {},
     "output_type": "execute_result"
    },
    {
     "data": {
      "image/png": "[encoded data removed]",
      "text/plain": [
       "<Figure size 432x288 with 1 Axes>"
      ]
     },
     "metadata": {},
     "output_type": "display_data"
    }
   ],
   "source": [
    "plt.plot(np.linspace(0,1000,101), Jtrain_l2, label=\"Training\")\n",
    "plt.plot(np.linspace(0,1000,101), Jval_l2, label=\"Validation\")\n",
    "plt.xlabel(\"Value of Lambda\")\n",
    "plt.ylabel(\"J\")\n",
    "plt.legend(loc='lower right')\n",
    "plt.title(\"L2 Regularization: J vs Lambda \")\n",
    "#plt.savefig(filename)"
   ]
  },
  {
   "cell_type": "markdown",
   "metadata": {},
   "source": [
    "## L1 Regularisation ANN"
   ]
  },
  {
   "cell_type": "code",
   "execution_count": 132,
   "metadata": {},
   "outputs": [
    {
     "ename": "ValueError",
     "evalue": "operands could not be broadcast together with shapes (299,14) (8,14) ",
     "output_type": "error",
     "traceback": [
      "\u001b[1;31m---------------------------------------------------------------------------\u001b[0m",
      "\u001b[1;31mValueError\u001b[0m                                Traceback (most recent call last)",
      "\u001b[1;32m<ipython-input-132-fcbf62edde8f>\u001b[0m in \u001b[0;36m<module>\u001b[1;34m()\u001b[0m\n\u001b[0;32m     21\u001b[0m         \u001b[0mW2_l1\u001b[0m \u001b[1;33m-=\u001b[0m \u001b[0meta\u001b[0m \u001b[1;33m*\u001b[0m \u001b[1;33m(\u001b[0m\u001b[1;36m1\u001b[0m\u001b[1;33m/\u001b[0m\u001b[0mN\u001b[0m\u001b[1;33m)\u001b[0m\u001b[1;33m*\u001b[0m\u001b[1;33m(\u001b[0m\u001b[0mnp\u001b[0m\u001b[1;33m.\u001b[0m\u001b[0mmatmul\u001b[0m\u001b[1;33m(\u001b[0m\u001b[0mZ1_l1\u001b[0m\u001b[1;33m.\u001b[0m\u001b[0mT\u001b[0m\u001b[1;33m,\u001b[0m \u001b[0mp_l1\u001b[0m\u001b[1;33m-\u001b[0m\u001b[0my\u001b[0m\u001b[1;33m)\u001b[0m \u001b[1;33m+\u001b[0m \u001b[0mlmbda\u001b[0m\u001b[1;33m*\u001b[0m\u001b[0mnp\u001b[0m\u001b[1;33m.\u001b[0m\u001b[0msign\u001b[0m\u001b[1;33m(\u001b[0m\u001b[0mW2_l1\u001b[0m\u001b[1;33m)\u001b[0m\u001b[1;33m)\u001b[0m\u001b[1;33m\u001b[0m\u001b[0m\n\u001b[0;32m     22\u001b[0m         \u001b[0mb2_l1\u001b[0m \u001b[1;33m-=\u001b[0m \u001b[0meta\u001b[0m \u001b[1;33m*\u001b[0m \u001b[1;33m(\u001b[0m\u001b[1;33m(\u001b[0m\u001b[1;36m1\u001b[0m\u001b[1;33m/\u001b[0m\u001b[0mN\u001b[0m\u001b[1;33m)\u001b[0m\u001b[1;33m*\u001b[0m\u001b[1;33m(\u001b[0m\u001b[0mnp\u001b[0m\u001b[1;33m.\u001b[0m\u001b[0mmatmul\u001b[0m\u001b[1;33m(\u001b[0m\u001b[0mZ1_l1\u001b[0m\u001b[1;33m.\u001b[0m\u001b[0mT\u001b[0m\u001b[1;33m,\u001b[0m \u001b[0mp_l1\u001b[0m\u001b[1;33m-\u001b[0m\u001b[0my\u001b[0m\u001b[1;33m)\u001b[0m\u001b[1;33m+\u001b[0m \u001b[0mlmbda\u001b[0m\u001b[1;33m*\u001b[0m\u001b[0mnp\u001b[0m\u001b[1;33m.\u001b[0m\u001b[0msign\u001b[0m\u001b[1;33m(\u001b[0m\u001b[0mW2_l1\u001b[0m\u001b[1;33m)\u001b[0m\u001b[1;33m)\u001b[0m\u001b[1;33m)\u001b[0m\u001b[1;33m.\u001b[0m\u001b[0msum\u001b[0m\u001b[1;33m(\u001b[0m\u001b[0maxis\u001b[0m \u001b[1;33m=\u001b[0m \u001b[1;36m0\u001b[0m\u001b[1;33m)\u001b[0m\u001b[1;33m\u001b[0m\u001b[0m\n\u001b[1;32m---> 23\u001b[1;33m         \u001b[0mW1_l1\u001b[0m \u001b[1;33m-=\u001b[0m \u001b[0meta\u001b[0m \u001b[1;33m*\u001b[0m \u001b[1;33m(\u001b[0m\u001b[1;36m1\u001b[0m\u001b[1;33m/\u001b[0m\u001b[0mN\u001b[0m\u001b[1;33m)\u001b[0m\u001b[1;33m*\u001b[0m\u001b[1;33m(\u001b[0m\u001b[0mnp\u001b[0m\u001b[1;33m.\u001b[0m\u001b[0mmatmul\u001b[0m\u001b[1;33m(\u001b[0m\u001b[0mX\u001b[0m\u001b[1;33m.\u001b[0m\u001b[0mT\u001b[0m\u001b[1;33m,\u001b[0m \u001b[1;33m(\u001b[0m\u001b[0mnp\u001b[0m\u001b[1;33m.\u001b[0m\u001b[0mmatmul\u001b[0m\u001b[1;33m(\u001b[0m\u001b[0mp_l1\u001b[0m\u001b[1;33m-\u001b[0m\u001b[0my\u001b[0m\u001b[1;33m,\u001b[0m \u001b[0mW2_l1\u001b[0m\u001b[1;33m.\u001b[0m\u001b[0mT\u001b[0m\u001b[1;33m)\u001b[0m\u001b[1;33m*\u001b[0m\u001b[1;33m(\u001b[0m\u001b[1;36m1\u001b[0m \u001b[1;33m-\u001b[0m \u001b[0mZ1_l1\u001b[0m\u001b[1;33m*\u001b[0m\u001b[0mZ1_l1\u001b[0m\u001b[1;33m)\u001b[0m \u001b[1;33m+\u001b[0m \u001b[0mlmbda\u001b[0m\u001b[1;33m*\u001b[0m\u001b[0mnp\u001b[0m\u001b[1;33m.\u001b[0m\u001b[0msign\u001b[0m\u001b[1;33m(\u001b[0m\u001b[0mW1_l1\u001b[0m\u001b[1;33m)\u001b[0m\u001b[1;33m)\u001b[0m\u001b[1;33m)\u001b[0m\u001b[1;33m)\u001b[0m\u001b[1;33m\u001b[0m\u001b[0m\n\u001b[0m\u001b[0;32m     24\u001b[0m         \u001b[0mb1_l1\u001b[0m \u001b[1;33m-=\u001b[0m \u001b[0meta\u001b[0m \u001b[1;33m*\u001b[0m \u001b[1;33m(\u001b[0m\u001b[1;33m(\u001b[0m\u001b[1;36m1\u001b[0m\u001b[1;33m/\u001b[0m\u001b[0mN\u001b[0m\u001b[1;33m)\u001b[0m\u001b[1;33m*\u001b[0m\u001b[0mnp\u001b[0m\u001b[1;33m.\u001b[0m\u001b[0mmatmul\u001b[0m\u001b[1;33m(\u001b[0m\u001b[0mX\u001b[0m\u001b[1;33m.\u001b[0m\u001b[0mT\u001b[0m\u001b[1;33m,\u001b[0m \u001b[1;33m(\u001b[0m\u001b[0mnp\u001b[0m\u001b[1;33m.\u001b[0m\u001b[0mmatmul\u001b[0m\u001b[1;33m(\u001b[0m\u001b[0mp_l1\u001b[0m\u001b[1;33m-\u001b[0m\u001b[0my\u001b[0m\u001b[1;33m,\u001b[0m \u001b[0mW2_l1\u001b[0m\u001b[1;33m.\u001b[0m\u001b[0mT\u001b[0m\u001b[1;33m)\u001b[0m\u001b[1;33m*\u001b[0m\u001b[1;33m(\u001b[0m\u001b[1;36m1\u001b[0m \u001b[1;33m-\u001b[0m \u001b[0mZ1_l1\u001b[0m\u001b[1;33m*\u001b[0m\u001b[0mZ1_l1\u001b[0m\u001b[1;33m)\u001b[0m\u001b[1;33m+\u001b[0m \u001b[0mlmbda\u001b[0m\u001b[1;33m*\u001b[0m\u001b[0mnp\u001b[0m\u001b[1;33m.\u001b[0m\u001b[0msign\u001b[0m\u001b[1;33m(\u001b[0m\u001b[0mW1_l1\u001b[0m\u001b[1;33m)\u001b[0m\u001b[1;33m)\u001b[0m\u001b[1;33m)\u001b[0m\u001b[1;33m)\u001b[0m\u001b[1;33m.\u001b[0m\u001b[0msum\u001b[0m\u001b[1;33m(\u001b[0m\u001b[0maxis\u001b[0m \u001b[1;33m=\u001b[0m \u001b[1;36m0\u001b[0m\u001b[1;33m)\u001b[0m\u001b[1;33m\u001b[0m\u001b[0m\n\u001b[0;32m     25\u001b[0m \u001b[1;33m\u001b[0m\u001b[0m\n",
      "\u001b[1;31mValueError\u001b[0m: operands could not be broadcast together with shapes (299,14) (8,14) "
     ]
    }
   ],
   "source": [
    "#L2 Regularization\n",
    "np.random.seed(111)\n",
    "CRtrain_l1 = []\n",
    "CRval_l1 = []\n",
    "CRtest_l1 = []\n",
    "Jtrain_l1 = []\n",
    "Jval_l1 = []\n",
    "eta = 6e-1\n",
    "epochs = int(5e4)\n",
    "W1_l1 = np.random.randn(D, Q)\n",
    "b1_l1 = np.random.randn(Q)\n",
    "W2_l1 = np.random.randn(Q, K)\n",
    "b2_l1 = np.random.randn(K)\n",
    "L2 = np.linspace(0,200,51)\n",
    "for i in L2:\n",
    "    lmbda = i\n",
    "\n",
    "    for t in range(epochs):\n",
    "\n",
    "        Z1_l1, p_l1 = feed_forward(X, W1_l1, b1_l1, W2_l1, b2_l1)\n",
    "        W2_l1 -= eta * (1/N)*(np.matmul(Z1_l1.T, p_l1-y) + lmbda*np.sign(W2_l1))\n",
    "        b2_l1 -= eta * ((1/N)*(np.matmul(Z1_l1.T, p_l1-y)+ lmbda*np.sign(W2_l1))).sum(axis = 0)\n",
    "        W1_l1 -= eta * (1/N)*(np.matmul(X.T, (np.matmul(p_l1-y, W2_l1.T)*(1 - Z1_l1*Z1_l1) + lmbda*np.sign(W1_l1))))\n",
    "        b1_l1 -= eta * ((1/N)*np.matmul(X.T, (np.matmul(p_l1-y, W2_l1.T)*(1 - Z1_l1*Z1_l1)+ lmbda*np.sign(W1_l1)))).sum(axis = 0)\n",
    "\n",
    "\n",
    "    pval_l1 = feed_forward(Xval, W1_l1, b1_l1, W2_l1, b2_l1)[-1]\n",
    "    ptest_l1 = feed_forward(Xtest, W1_l1, b1_l1, W2_l1, b2_l1)[-1]\n",
    "    CRtrain_l1.append(classification_rate(y, p_l1)) \n",
    "    CRval_l1.append(classification_rate(yval, pval_l1))\n",
    "    CRtest_l1.append(classification_rate(ytest,ptest_l1))\n",
    "    Jtrain_l1.append(cross_entropy(y, p_l1)) \n",
    "    Jval_l1.append(cross_entropy(yval, pval_l1))\n",
    "\n",
    "\n",
    "    \n",
    "plt.plot(CRtrain_l1, label='Training')\n",
    "plt.plot(CRval_l1, label='Validation')\n",
    "plt.title(\"L1 Regularization: Classification Rate vs Lambda \")\n",
    "plt.xlabel(\"Value of Lambda\")\n",
    "plt.ylabel(\"Classification value\")\n",
    "plt.legend(loc='upper right')\n",
    "#plt.savefig(filename)"
   ]
  },
  {
   "cell_type": "code",
   "execution_count": 99,
   "metadata": {
    "collapsed": true
   },
   "outputs": [
    {
     "data": {
      "text/plain": [
       "[0.0008719656098373445,\n",
       " nan,\n",
       " nan,\n",
       " nan,\n",
       " nan,\n",
       " nan,\n",
       " nan,\n",
       " nan,\n",
       " nan,\n",
       " nan,\n",
       " nan,\n",
       " nan,\n",
       " nan,\n",
       " nan,\n",
       " nan,\n",
       " nan,\n",
       " nan,\n",
       " nan,\n",
       " nan,\n",
       " nan,\n",
       " nan,\n",
       " nan,\n",
       " nan,\n",
       " nan,\n",
       " nan,\n",
       " nan,\n",
       " nan,\n",
       " nan,\n",
       " nan,\n",
       " nan,\n",
       " nan,\n",
       " nan,\n",
       " nan,\n",
       " nan,\n",
       " nan,\n",
       " nan,\n",
       " nan,\n",
       " nan,\n",
       " nan,\n",
       " nan,\n",
       " nan,\n",
       " nan,\n",
       " nan,\n",
       " nan,\n",
       " nan,\n",
       " nan,\n",
       " nan,\n",
       " nan,\n",
       " nan,\n",
       " nan,\n",
       " nan]"
      ]
     },
     "execution_count": 99,
     "metadata": {},
     "output_type": "execute_result"
    }
   ],
   "source": [
    "Jtrain_l1"
   ]
  },
  {
   "cell_type": "code",
   "execution_count": 96,
   "metadata": {},
   "outputs": [
    {
     "data": {
      "text/plain": [
       "Text(0.5,1,'L1 Regularization: J vs Lambda ')"
      ]
     },
     "execution_count": 96,
     "metadata": {},
     "output_type": "execute_result"
    },
    {
     "data": {
      "image/png": "[encoded data removed]",
      "text/plain": [
       "<Figure size 432x288 with 1 Axes>"
      ]
     },
     "metadata": {},
     "output_type": "display_data"
    }
   ],
   "source": [
    "plt.plot(np.linspace(0,200,51), Jtrain_l1, label=\"Training\")\n",
    "plt.plot(np.linspace(0,200,51), Jval_l1, label=\"Validation\")\n",
    "plt.xlabel(\"Value of Lambda\")\n",
    "plt.ylabel(\"J Value\")\n",
    "plt.legend(loc='lower right')\n",
    "plt.title(\"L1 Regularization: J vs Lambda \")\n",
    "#plt.savefig(filename)"
   ]
  }
 ],
 "metadata": {
  "kernelspec": {
   "display_name": "Python 3",
   "language": "python",
   "name": "python3"
  },
  "language_info": {
   "codemirror_mode": {
    "name": "ipython",
    "version": 3
   },
   "file_extension": ".py",
   "mimetype": "text/x-python",
   "name": "python",
   "nbconvert_exporter": "python",
   "pygments_lexer": "ipython3",
   "version": "3.6.5"
  }
 },
 "nbformat": 4,
 "nbformat_minor": 2
}
