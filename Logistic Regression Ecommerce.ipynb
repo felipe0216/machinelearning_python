{
 "cells": [
  {
   "cell_type": "code",
   "execution_count": 1,
   "metadata": {},
   "outputs": [],
   "source": [
    "import numpy as np\n",
    "import pandas as pd\n",
    "import matplotlib.pyplot as plt\n",
    "%matplotlib inline"
   ]
  },
  {
   "cell_type": "code",
   "execution_count": 2,
   "metadata": {},
   "outputs": [],
   "source": [
    "df = pd.read_csv(\"ecommerce_data.csv\")"
   ]
  },
  {
   "cell_type": "code",
   "execution_count": 3,
   "metadata": {
    "collapsed": true
   },
   "outputs": [
    {
     "data": {
      "text/html": [
       "<div>\n",
       "<style scoped>\n",
       "    .dataframe tbody tr th:only-of-type {\n",
       "        vertical-align: middle;\n",
       "    }\n",
       "\n",
       "    .dataframe tbody tr th {\n",
       "        vertical-align: top;\n",
       "    }\n",
       "\n",
       "    .dataframe thead th {\n",
       "        text-align: right;\n",
       "    }\n",
       "</style>\n",
       "<table border=\"1\" class=\"dataframe\">\n",
       "  <thead>\n",
       "    <tr style=\"text-align: right;\">\n",
       "      <th></th>\n",
       "      <th>is_mobile</th>\n",
       "      <th>n_products_viewed</th>\n",
       "      <th>visit_duration</th>\n",
       "      <th>is_returning_visitor</th>\n",
       "      <th>time_of_day</th>\n",
       "      <th>user_action</th>\n",
       "    </tr>\n",
       "  </thead>\n",
       "  <tbody>\n",
       "    <tr>\n",
       "      <th>0</th>\n",
       "      <td>1</td>\n",
       "      <td>0</td>\n",
       "      <td>0.657510</td>\n",
       "      <td>0</td>\n",
       "      <td>3</td>\n",
       "      <td>0</td>\n",
       "    </tr>\n",
       "    <tr>\n",
       "      <th>1</th>\n",
       "      <td>1</td>\n",
       "      <td>1</td>\n",
       "      <td>0.568571</td>\n",
       "      <td>0</td>\n",
       "      <td>2</td>\n",
       "      <td>1</td>\n",
       "    </tr>\n",
       "    <tr>\n",
       "      <th>2</th>\n",
       "      <td>1</td>\n",
       "      <td>0</td>\n",
       "      <td>0.042246</td>\n",
       "      <td>1</td>\n",
       "      <td>1</td>\n",
       "      <td>0</td>\n",
       "    </tr>\n",
       "    <tr>\n",
       "      <th>3</th>\n",
       "      <td>1</td>\n",
       "      <td>1</td>\n",
       "      <td>1.659793</td>\n",
       "      <td>1</td>\n",
       "      <td>1</td>\n",
       "      <td>2</td>\n",
       "    </tr>\n",
       "    <tr>\n",
       "      <th>4</th>\n",
       "      <td>0</td>\n",
       "      <td>1</td>\n",
       "      <td>2.014745</td>\n",
       "      <td>1</td>\n",
       "      <td>1</td>\n",
       "      <td>2</td>\n",
       "    </tr>\n",
       "  </tbody>\n",
       "</table>\n",
       "</div>"
      ],
      "text/plain": [
       "   is_mobile  n_products_viewed  visit_duration  is_returning_visitor  \\\n",
       "0          1                  0        0.657510                     0   \n",
       "1          1                  1        0.568571                     0   \n",
       "2          1                  0        0.042246                     1   \n",
       "3          1                  1        1.659793                     1   \n",
       "4          0                  1        2.014745                     1   \n",
       "\n",
       "   time_of_day  user_action  \n",
       "0            3            0  \n",
       "1            2            1  \n",
       "2            1            0  \n",
       "3            1            2  \n",
       "4            1            2  "
      ]
     },
     "execution_count": 3,
     "metadata": {},
     "output_type": "execute_result"
    }
   ],
   "source": [
    "df.head()"
   ]
  },
  {
   "cell_type": "markdown",
   "metadata": {},
   "source": [
    "## One hot enconding"
   ]
  },
  {
   "cell_type": "code",
   "execution_count": 25,
   "metadata": {},
   "outputs": [
    {
     "ename": "NameError",
     "evalue": "name 'y' is not defined",
     "output_type": "error",
     "traceback": [
      "\u001b[1;31m---------------------------------------------------------------------------\u001b[0m",
      "\u001b[1;31mNameError\u001b[0m                                 Traceback (most recent call last)",
      "\u001b[1;32m<ipython-input-25-b128ac48cb90>\u001b[0m in \u001b[0;36m<module>\u001b[1;34m()\u001b[0m\n\u001b[0;32m      2\u001b[0m \u001b[1;33m\u001b[0m\u001b[0m\n\u001b[0;32m      3\u001b[0m \u001b[1;32mfor\u001b[0m \u001b[0mi\u001b[0m \u001b[1;32min\u001b[0m \u001b[0mrange\u001b[0m\u001b[1;33m(\u001b[0m\u001b[0mN\u001b[0m\u001b[1;33m)\u001b[0m\u001b[1;33m:\u001b[0m\u001b[1;33m\u001b[0m\u001b[0m\n\u001b[1;32m----> 4\u001b[1;33m     \u001b[0mY\u001b[0m\u001b[1;33m[\u001b[0m\u001b[0mi\u001b[0m\u001b[1;33m,\u001b[0m \u001b[0my\u001b[0m\u001b[1;33m[\u001b[0m\u001b[0mi\u001b[0m\u001b[1;33m]\u001b[0m\u001b[1;33m]\u001b[0m \u001b[1;33m=\u001b[0m \u001b[1;36m1\u001b[0m\u001b[1;33m\u001b[0m\u001b[0m\n\u001b[0m",
      "\u001b[1;31mNameError\u001b[0m: name 'y' is not defined"
     ]
    }
   ],
   "source": [
    "Y = np.zeros((N, 4))\n",
    "\n",
    "for i in range(N):\n",
    "    Y[i, y[i]] = 1"
   ]
  },
  {
   "cell_type": "markdown",
   "metadata": {},
   "source": [
    "## Stratification"
   ]
  },
  {
   "cell_type": "code",
   "execution_count": 53,
   "metadata": {},
   "outputs": [],
   "source": [
    "bounce = df.loc[df[\"user_action\"] ==0]\n",
    "addcart = df.loc[df[\"user_action\"] ==1]\n",
    "checkout = df.loc[df[\"user_action\"] ==2]\n",
    "complete = df.loc[df[\"user_action\"] ==3]\n"
   ]
  },
  {
   "cell_type": "code",
   "execution_count": 54,
   "metadata": {},
   "outputs": [],
   "source": [
    "btrain = bounce[:int(len(bounce)*0.6)]\n",
    "addtrain = addcart[:int(len(addcart)*0.6)]\n",
    "checktrain = checkout[:int(len(checkout)*0.6)]\n",
    "buytrain = complete[:int(len(complete)*0.6)]\n",
    "\n",
    "bval = bounce[int(len(bounce)*0.6):int(len(bounce)*0.8)]\n",
    "addval = addcart[int(len(addcart)*0.6):int(len(addcart)*0.8)]\n",
    "checkval = checkout[int(len(checkout)*0.6):int(len(checkout)*0.8)]\n",
    "buyval = complete[int(len(complete)*0.6):int(len(complete)*0.8)]\n",
    "\n",
    "btest = bounce[int(len(bounce)*0.8):]\n",
    "addtest = addcart[int(len(addcart)*0.8):]\n",
    "checktest = checkout[int(len(checkout)*0.8):]\n",
    "buytest = complete[int(len(complete)*0.8):]"
   ]
  },
  {
   "cell_type": "markdown",
   "metadata": {},
   "source": [
    "## Splitting the data into Train, Validation and Test"
   ]
  },
  {
   "cell_type": "code",
   "execution_count": 55,
   "metadata": {},
   "outputs": [],
   "source": [
    "frames = [btrain, addtrain, checktrain, buytrain]\n",
    "dftrain = pd.concat(frames, ignore_index=True)\n",
    "\n",
    "\n",
    "fval = [bval, addval, checkval, buyval]\n",
    "dfval = pd.concat(fval, ignore_index=True)\n",
    "\n",
    "ftest = [btest, addtest, checktest, buytest]\n",
    "dftest = pd.concat(ftest, ignore_index=True)"
   ]
  },
  {
   "cell_type": "markdown",
   "metadata": {},
   "source": [
    "## Making my data Binary"
   ]
  },
  {
   "cell_type": "markdown",
   "metadata": {},
   "source": [
    "\n",
    "dftrain['user_action'] = dftrain['user_action'].replace([0,1,2], 0)\n",
    "dftrain['user_action'] = dftrain['user_action'].replace(3, 1)\n",
    "\n",
    "dfval['user_action'] = dfval['user_action'].replace([0,1,2], 0)\n",
    "dfval['user_action'] = dfval['user_action'].replace(3, 1)\n",
    "\n",
    "dftest['user_action'] = dftest['user_action'].replace([0,1,2], 0)\n",
    "dftest['user_action'] = dftest['user_action'].replace(3, 1)\n",
    "\n",
    "#Another way of doing it is creating a boolean vector and then converting it as an int.\n",
    "'''(df['user_action'] == 3).astype(int)\n",
    "'''"
   ]
  },
  {
   "cell_type": "code",
   "execution_count": 57,
   "metadata": {},
   "outputs": [],
   "source": [
    "X = np.array(dftrain.iloc[:,:5])\n",
    "PHI = np.column_stack((np.array([[1]*len(dftrain)]).T, X))\n",
    "y = np.array(dftrain.iloc[:,5])\n",
    "\n",
    "Xval = np.array(dfval.iloc[:,:5])\n",
    "PHIval = np.column_stack((np.array([[1]*len(dfval)]).T, Xval))\n",
    "yval = np.array(dfval.iloc[:,5])\n",
    "\n",
    "Xtest = np.array(dftest.iloc[:,:5])\n",
    "PHItest = np.column_stack((np.array([[1]*len(dftest)]).T, Xtest))\n",
    "ytest = np.array(dftest.iloc[:,5])\n",
    "\n"
   ]
  },
  {
   "cell_type": "code",
   "execution_count": 58,
   "metadata": {},
   "outputs": [],
   "source": [
    "# Functions\n",
    "\n",
    "def sigmoid(h):\n",
    "    return 1 / (1 + np.exp(-h))\n",
    "\n",
    "def cross_entropy(y, p):\n",
    "    return -np.mean(y*np.log(p) + (1-y)*np.log(1-p))\n",
    "\n",
    "def classification_rate(y, p):\n",
    "    return np.mean(y == np.round(p))"
   ]
  },
  {
   "cell_type": "code",
   "execution_count": 143,
   "metadata": {},
   "outputs": [
    {
     "data": {
      "text/plain": [
       "[<matplotlib.lines.Line2D at 0x26f5d3a1358>]"
      ]
     },
     "execution_count": 143,
     "metadata": {},
     "output_type": "execute_result"
    },
    {
     "data": {
      "image/png": "[encoded data removed]",
      "text/plain": [
       "<Figure size 432x288 with 1 Axes>"
      ]
     },
     "metadata": {},
     "output_type": "display_data"
    }
   ],
   "source": [
    "# Build the Model\n",
    "\n",
    "w = np.random.rand(6)\n",
    "\n",
    "J = []\n",
    "eta = 3e-1\n",
    "epochs = int(1e4)\n",
    "\n",
    "for t in range(epochs):\n",
    "    p = sigmoid(PHI.dot(w))\n",
    "    J.append(cross_entropy(y, p))\n",
    "    w -= eta*(1/len(dftrain))*PHI.T.dot(p - y)\n",
    "    \n",
    "#plt.figure(figsize=(12,9))\n",
    "plt.plot(J)"
   ]
  },
  {
   "cell_type": "markdown",
   "metadata": {},
   "source": [
    "## Training Set"
   ]
  },
  {
   "cell_type": "code",
   "execution_count": 129,
   "metadata": {},
   "outputs": [
    {
     "data": {
      "text/plain": [
       "array([-12.58971985,   1.85005703,   2.1987113 ,   2.11632834,\n",
       "         3.73524162,  -1.15188008])"
      ]
     },
     "execution_count": 129,
     "metadata": {},
     "output_type": "execute_result"
    }
   ],
   "source": [
    "w"
   ]
  },
  {
   "cell_type": "code",
   "execution_count": 139,
   "metadata": {},
   "outputs": [
    {
     "name": "stdout",
     "output_type": "stream",
     "text": [
      "Predicted  0.0  1.0  All\n",
      "Actual                  \n",
      "0          282    2  284\n",
      "1            6    9   15\n",
      "All        288   11  299\n",
      "Precision: 0.8181818181818182\n",
      "Recall: 0.6\n",
      "F1: 0.6923076923076923\n"
     ]
    }
   ],
   "source": [
    "#print(\"Classification Rate: {}\".format(classification_rate(y, p)))\n",
    "\n",
    "#Confusion Matrix\n",
    "train_confusion = pd.crosstab(y, np.round(p), rownames=['Actual'], colnames=['Predicted'], margins=True)\n",
    "\n",
    "#Proportion Confusion Matrix\n",
    "train_conf_prop = train_confusion / len(y)\n",
    "\n",
    "#Normalised Confusion Matrix\n",
    "train_conf_norm = train_confusion / train_confusion.sum(axis=1)\n",
    "\n",
    "print(train_confusion)\n",
    "\n",
    "Precision = train_confusion.iloc[1,1] / train_confusion.iloc[2,1] \n",
    "print(\"Precision: {}\".format(Precision))\n",
    "\n",
    "Recall = train_confusion.iloc[1,1] / train_confusion.iloc[1,2]\n",
    "print(\"Recall: {}\".format(Recall))\n",
    "\n",
    "F1 = (2*Precision*Recall)/ (Precision + Recall)\n",
    "print(\"F1: {}\".format(F1))"
   ]
  },
  {
   "cell_type": "code",
   "execution_count": 147,
   "metadata": {},
   "outputs": [
    {
     "data": {
      "text/plain": [
       "Text(0.5,1,'ROC/AUC')"
      ]
     },
     "execution_count": 147,
     "metadata": {},
     "output_type": "execute_result"
    },
    {
     "data": {
      "image/png": "[encoded data removed]",
      "text/plain": [
       "<Figure size 432x288 with 1 Axes>"
      ]
     },
     "metadata": {},
     "output_type": "display_data"
    }
   ],
   "source": [
    "# ROC/AUC\n",
    "\n",
    "roc_matrix = np.column_stack((p, np.round(p), y))\n",
    "roc_matrix = roc_matrix[roc_matrix[:,0].argsort()[::-1]]\n",
    "\n",
    "tp = np.cumsum((roc_matrix[:,1] == 1) & (roc_matrix[:,2] == 1)) / np.sum(roc_matrix[:,2] == 1)\n",
    "fp = np.cumsum((roc_matrix[:,1] == 1) & (roc_matrix[:,2] == 0)) / np.sum(roc_matrix[:,2] == 0)\n",
    "\n",
    "tp = np.array([0] + tp.tolist() + [1])\n",
    "fp = np.array([0] + fp.tolist() + [1])\n",
    "\n",
    "\n",
    "plt.step(fp, tp)\n",
    "plt.xlabel(\"Cumulative False Positive Rate\")\n",
    "plt.ylabel(\"Cumulative True Positive Rate\")\n",
    "plt.title(\"ROC/AUC\")\n"
   ]
  },
  {
   "cell_type": "code",
   "execution_count": 145,
   "metadata": {},
   "outputs": [],
   "source": [
    "roc_matrix2 = np.column_stack((p, np.round(p), y))\n",
    "Recall2 = np.sum((roc_matrix2[:,1] == 1) & (roc_matrix2[:,2] == 1)) / np.sum(roc_matrix2[:,2] == 1)\n",
    "fp2 = np.sum((roc_matrix2[:,1] == 1) & (roc_matrix2[:,2] == 0)) / np.sum(roc_matrix2[:,2] == 0)\n",
    "\n"
   ]
  },
  {
   "cell_type": "code",
   "execution_count": 146,
   "metadata": {},
   "outputs": [
    {
     "name": "stdout",
     "output_type": "stream",
     "text": [
      "ROC/AUC: 0.9969483568075117\n"
     ]
    }
   ],
   "source": [
    "auc = np.sum(w*h for h, w in zip(tp[1:], [b-a for a, b in zip(fp, fp[1:])]))\n",
    "\n",
    "print(\"ROC/AUC: {}\".format(auc))"
   ]
  },
  {
   "cell_type": "markdown",
   "metadata": {},
   "source": [
    "## Validation Set"
   ]
  },
  {
   "cell_type": "code",
   "execution_count": 130,
   "metadata": {},
   "outputs": [],
   "source": [
    "w_l2 = np.array([-3.38645812e+30, 1.00044637e+29, 7.54121589e+29, 7.70138256e+29, 5.27979704e+29, -5.13573328e+29])"
   ]
  },
  {
   "cell_type": "code",
   "execution_count": 131,
   "metadata": {},
   "outputs": [
    {
     "name": "stdout",
     "output_type": "stream",
     "text": [
      "Predicted  0.0  1.0  All\n",
      "Actual                  \n",
      "0           95    0   95\n",
      "1            4    1    5\n",
      "All         99    1  100\n",
      "Precision Validation: 1.0\n",
      "Recall Validation: 0.2\n"
     ]
    }
   ],
   "source": [
    "pval = sigmoid(PHIval.dot(w_l2))\n",
    "#print(\"Classification Rate: {}\".format(classification_rate(yval, pval)))\n",
    "\n",
    "#Confusion Matrix\n",
    "val_confusion = pd.crosstab(yval, np.round(pval), rownames=['Actual'], colnames=['Predicted'], margins=True)\n",
    "\n",
    "#Proportion Confusion Matrix\n",
    "val_conf_prop = val_confusion / len(yval)\n",
    "\n",
    "#Normalised Confusion Matrix\n",
    "val_conf_norm = val_confusion / val_confusion.sum(axis=1)\n",
    "\n",
    "print(val_confusion)\n",
    "\n",
    "Precision = val_confusion.iloc[1,1] / val_confusion.iloc[2,1] \n",
    "print(\"Precision Validation: {}\".format(Precision))\n",
    "\n",
    "Recall = val_confusion.iloc[1,1] / val_confusion.iloc[1,2]\n",
    "print(\"Recall Validation: {}\".format(Recall))"
   ]
  },
  {
   "cell_type": "code",
   "execution_count": 149,
   "metadata": {},
   "outputs": [
    {
     "data": {
      "text/plain": [
       "Text(0.5,1,'ROC/AUC Validation')"
      ]
     },
     "execution_count": 149,
     "metadata": {},
     "output_type": "execute_result"
    },
    {
     "data": {
      "image/png": "[encoded data removed]",
      "text/plain": [
       "<Figure size 432x288 with 1 Axes>"
      ]
     },
     "metadata": {},
     "output_type": "display_data"
    }
   ],
   "source": [
    "# ROC/AUC\n",
    "\n",
    "roc_matrix2 = np.column_stack((pval, np.round(pval), yval))\n",
    "roc_matrix2 = roc_matrix2[roc_matrix2[:,0].argsort()[::-1]]\n",
    "\n",
    "tpval = np.cumsum((roc_matrix2[:,1] == 1) & (roc_matrix2[:,2] == 1)) / np.sum(roc_matrix2[:,2] == 1)\n",
    "fpval = np.cumsum((roc_matrix2[:,1] == 1) & (roc_matrix2[:,2] == 0)) / np.sum(roc_matrix2[:,2] == 0)\n",
    "\n",
    "tpval = np.array([0] + tpval.tolist() + [1])\n",
    "fpval = np.array([0] + fpval.tolist() + [1])\n",
    "\n",
    "#plt.figure(figsize = (12,9))\n",
    "plt.step(fpval, tpval)\n",
    "plt.xlabel(\"Cumulative False Positive Rate\")\n",
    "plt.ylabel(\"Cumulative True Positive Rate\")\n",
    "plt.title(\"ROC/AUC Validation\")"
   ]
  },
  {
   "cell_type": "markdown",
   "metadata": {},
   "source": [
    "## Test Set"
   ]
  },
  {
   "cell_type": "code",
   "execution_count": 150,
   "metadata": {},
   "outputs": [
    {
     "name": "stdout",
     "output_type": "stream",
     "text": [
      "Predicted  0.0  1.0  All\n",
      "Actual                  \n",
      "0           95    1   96\n",
      "1            2    3    5\n",
      "All         97    4  101\n",
      "Precision Validation: 0.75\n",
      "Recall Validation: 0.6\n"
     ]
    }
   ],
   "source": [
    "ptest = sigmoid(PHItest.dot(w))\n",
    "#print(\"Classification Rate: {}\".format(classification_rate(ytest, ptest)))\n",
    "\n",
    "#Confusion Matrix\n",
    "test_confusion = pd.crosstab(ytest, np.round(ptest), rownames=['Actual'], colnames=['Predicted'], margins=True)\n",
    "\n",
    "#Proportion Confusion Matrix\n",
    "test_conf_prop = test_confusion / len(ytest)\n",
    "\n",
    "#Normalised Confusion Matrix\n",
    "test_conf_norm = test_confusion / test_confusion.sum(axis=1)\n",
    "\n",
    "print(test_confusion)\n",
    "\n",
    "Precision = test_confusion.iloc[1,1] / test_confusion.iloc[2,1] \n",
    "print(\"Precision Validation: {}\".format(Precision))\n",
    "\n",
    "Recall = test_confusion.iloc[1,1] / test_confusion.iloc[1,2]\n",
    "print(\"Recall Validation: {}\".format(Recall))"
   ]
  },
  {
   "cell_type": "code",
   "execution_count": 152,
   "metadata": {},
   "outputs": [
    {
     "data": {
      "text/plain": [
       "Text(0.5,1,'ROC/AUC Test')"
      ]
     },
     "execution_count": 152,
     "metadata": {},
     "output_type": "execute_result"
    },
    {
     "data": {
      "image/png": "[encoded data removed]",
      "text/plain": [
       "<Figure size 432x288 with 1 Axes>"
      ]
     },
     "metadata": {},
     "output_type": "display_data"
    }
   ],
   "source": [
    "# ROC/AUC\n",
    "\n",
    "roc_matrix3 = np.column_stack((ptest, np.round(ptest), ytest))\n",
    "roc_matrix3 = roc_matrix3[roc_matrix3[:,0].argsort()[::-1]]\n",
    "\n",
    "tptest = np.cumsum((roc_matrix3[:,1] == 1) & (roc_matrix3[:,2] == 1)) / np.sum(roc_matrix3[:,2] == 1)\n",
    "fptest = np.cumsum((roc_matrix3[:,1] == 1) & (roc_matrix3[:,2] == 0)) / np.sum(roc_matrix3[:,2] == 0)\n",
    "\n",
    "tptest = np.array([0] + tptest.tolist() + [1])\n",
    "fptest = np.array([0] + fptest.tolist() + [1])\n",
    "\n",
    "#plt.figure(figsize = (12,9))\n",
    "plt.step(fptest, tptest)\n",
    "plt.xlabel(\"Cumulative False Positive Rate\")\n",
    "plt.ylabel(\"Cumulative True Positive Rate\")\n",
    "plt.title(\"ROC/AUC Test\")"
   ]
  },
  {
   "cell_type": "markdown",
   "metadata": {},
   "source": [
    "## How to Plot Data"
   ]
  },
  {
   "cell_type": "code",
   "execution_count": 73,
   "metadata": {},
   "outputs": [
    {
     "data": {
      "text/html": [
       "<div>\n",
       "<style scoped>\n",
       "    .dataframe tbody tr th:only-of-type {\n",
       "        vertical-align: middle;\n",
       "    }\n",
       "\n",
       "    .dataframe tbody tr th {\n",
       "        vertical-align: top;\n",
       "    }\n",
       "\n",
       "    .dataframe thead th {\n",
       "        text-align: right;\n",
       "    }\n",
       "</style>\n",
       "<table border=\"1\" class=\"dataframe\">\n",
       "  <thead>\n",
       "    <tr style=\"text-align: right;\">\n",
       "      <th>Predicted</th>\n",
       "      <th>0.0</th>\n",
       "      <th>1.0</th>\n",
       "      <th>All</th>\n",
       "    </tr>\n",
       "    <tr>\n",
       "      <th>Actual</th>\n",
       "      <th></th>\n",
       "      <th></th>\n",
       "      <th></th>\n",
       "    </tr>\n",
       "  </thead>\n",
       "  <tbody>\n",
       "    <tr>\n",
       "      <th>0</th>\n",
       "      <td>0.940594</td>\n",
       "      <td>0.009901</td>\n",
       "      <td>0.950495</td>\n",
       "    </tr>\n",
       "    <tr>\n",
       "      <th>1</th>\n",
       "      <td>0.019802</td>\n",
       "      <td>0.029703</td>\n",
       "      <td>0.049505</td>\n",
       "    </tr>\n",
       "    <tr>\n",
       "      <th>All</th>\n",
       "      <td>0.960396</td>\n",
       "      <td>0.039604</td>\n",
       "      <td>1.000000</td>\n",
       "    </tr>\n",
       "  </tbody>\n",
       "</table>\n",
       "</div>"
      ],
      "text/plain": [
       "Predicted       0.0       1.0       All\n",
       "Actual                                 \n",
       "0          0.940594  0.009901  0.950495\n",
       "1          0.019802  0.029703  0.049505\n",
       "All        0.960396  0.039604  1.000000"
      ]
     },
     "execution_count": 73,
     "metadata": {},
     "output_type": "execute_result"
    }
   ],
   "source": [
    "#Plot Confusion Matrix nicely\n",
    "\n",
    "def plot_confusion_matrix(df_confusion, title='Confusion matrix', cmap=plt.cm.gray_r):\n",
    "    plt.matshow(df_confusion, cmap=cmap) # imshow\n",
    "    #plt.title(title)\n",
    "    plt.colorbar()\n",
    "    tick_marks = np.arange(len(df_confusion.columns))\n",
    "    plt.xticks(tick_marks, df_confusion.columns, rotation=45)\n",
    "    plt.yticks(tick_marks, df_confusion.index)\n",
    "    #plt.tight_layout()\n",
    "    plt.ylabel(df_confusion.index.name)\n",
    "    plt.xlabel(df_confusion.columns.name)\n",
    "\n",
    "plot_confusion_matrix(df_confusion)"
   ]
  }
 ],
 "metadata": {
  "kernelspec": {
   "display_name": "Python 3",
   "language": "python",
   "name": "python3"
  },
  "language_info": {
   "codemirror_mode": {
    "name": "ipython",
    "version": 3
   },
   "file_extension": ".py",
   "mimetype": "text/x-python",
   "name": "python",
   "nbconvert_exporter": "python",
   "pygments_lexer": "ipython3",
   "version": "3.6.5"
  }
 },
 "nbformat": 4,
 "nbformat_minor": 2
}
